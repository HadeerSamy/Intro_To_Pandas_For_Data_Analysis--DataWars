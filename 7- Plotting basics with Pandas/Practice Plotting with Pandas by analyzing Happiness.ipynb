{
 "cells": [
  {
   "cell_type": "markdown",
   "metadata": {},
   "source": [
    "# Analyzing Happiness"
   ]
  },
  {
   "cell_type": "markdown",
   "metadata": {},
   "source": [
    "1- Load the data"
   ]
  },
  {
   "cell_type": "code",
   "execution_count": null,
   "metadata": {},
   "outputs": [],
   "source": [
    "df = pd.read_csv(\"world_happiness.csv\")"
   ]
  },
  {
   "cell_type": "markdown",
   "metadata": {},
   "source": [
    "2- Create a histogram showing the distribution of happiness score"
   ]
  },
  {
   "cell_type": "code",
   "execution_count": null,
   "metadata": {},
   "outputs": [],
   "source": [
    "happiness_hist = df[\"Happiness score\"].plot(kind=\"hist\",\n",
    "                                            title = \"Histogram of Happiness Scores\",\n",
    "                                            xlabel = \"Happiness score\",\n",
    "                                            ylabel = \"Frequency\")"
   ]
  },
  {
   "cell_type": "markdown",
   "metadata": {},
   "source": [
    "3- Create a horizontal bar chart with the combined top 10 and bottom 10 countries"
   ]
  },
  {
   "cell_type": "code",
   "execution_count": null,
   "metadata": {},
   "outputs": [],
   "source": [
    "happiness_gap_chart = pivot_df.plot(kind = \"barh\",\n",
    "                                   title = \"Top and Bottom 10 Countries by Happiness Score\",\n",
    "                                   xlabel = \"Happiness Score\",\n",
    "                                   ylabel = \"Country\",\n",
    "                                   color = [\"red\",\"blue\"],\n",
    "                                   figsize = (10,6))"
   ]
  },
  {
   "cell_type": "markdown",
   "metadata": {},
   "source": [
    "4- Create a horizontal bar chart with the combined top 5 and bottom 5 countries sorted by generosity"
   ]
  },
  {
   "cell_type": "code",
   "execution_count": null,
   "metadata": {},
   "outputs": [],
   "source": [
    "generosity_gap_chart = generosity_pivot_df.plot(kind = \"barh\",\n",
    "                                   title = \"Happiness Score of Top and Bottom 5 Countries by Generosity\",\n",
    "                                   xlabel = \"Happiness Score\",\n",
    "                                   ylabel = \"Country\",\n",
    "                                   color = [\"red\",\"green\"],\n",
    "                                   figsize = (10,6))"
   ]
  },
  {
   "cell_type": "markdown",
   "metadata": {},
   "source": [
    "5- Create a pie chart showing the proportion of GDP and health life in the happiness contribution"
   ]
  },
  {
   "cell_type": "code",
   "execution_count": null,
   "metadata": {},
   "outputs": [],
   "source": [
    "GDP_vs_health_pie = GDP_vs_health_percent.plot(kind = \"pie\",\n",
    "                                   title = \"Contribution of GDP per capita and healthy life expectancy to the happiness score of the top 10 happiest countries\",\n",
    "                                   label = \"Which contribute more?\",\n",
    "                                   colors = [\"yellowgreen\",\"lightskyblue\"],\n",
    "                                   startangle=140,\n",
    "                                   autopct='%1.2f%%')"
   ]
  },
  {
   "cell_type": "markdown",
   "metadata": {},
   "source": [
    "6- Create a pie chart showing the proportion of each factor in the happiness contribution"
   ]
  },
  {
   "cell_type": "code",
   "execution_count": null,
   "metadata": {},
   "outputs": [],
   "source": [
    "factors_pie  = factors_percent.plot(kind = \"pie\",\n",
    "                                   title = \"Percentage breakdown of factors contributing to happiness\",\n",
    "                                   label = \"\",\n",
    "                                   autopct='%1.2f%%')"
   ]
  },
  {
   "cell_type": "markdown",
   "metadata": {},
   "source": [
    "7- Create a horizontal stacked bar chart showing contribution of each factor in happoiness of top 10 happiest countries"
   ]
  },
  {
   "cell_type": "code",
   "execution_count": null,
   "metadata": {},
   "outputs": [],
   "source": [
    "top_10_factors_contribution_chart  = top_10_factors.plot(kind = \"barh\",\n",
    "                                   title = \"Contribution of factors to the happiness score of the top 10 happiest countries\",\n",
    "                                   xlabel = \"Factor scores\",\n",
    "                                   ylabel = \"Countries\",\n",
    "                                    stacked = True)"
   ]
  }
 ],
 "metadata": {
  "language_info": {
   "name": "python"
  },
  "orig_nbformat": 4
 },
 "nbformat": 4,
 "nbformat_minor": 2
}
