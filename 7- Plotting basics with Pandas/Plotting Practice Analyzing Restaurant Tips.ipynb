{
 "cells": [
  {
   "cell_type": "markdown",
   "metadata": {},
   "source": [
    "# Analyzing Restaurant Tips"
   ]
  },
  {
   "cell_type": "markdown",
   "metadata": {},
   "source": [
    "1- Load the data"
   ]
  },
  {
   "cell_type": "code",
   "execution_count": null,
   "metadata": {},
   "outputs": [],
   "source": [
    "import pandas as pd\n",
    "tips_df = pd.read_csv(\"tips_data.csv\")"
   ]
  },
  {
   "cell_type": "markdown",
   "metadata": {},
   "source": [
    "2- Create a pie chart showing the proportion of smoker and non-smoker people giving tips"
   ]
  },
  {
   "cell_type": "code",
   "execution_count": null,
   "metadata": {},
   "outputs": [],
   "source": [
    "smokers_count = tips_df[\"smoker\"].value_counts()\n",
    "tips_by_smokers_chart =smokers_count.plot(kind=\"pie\",autopct='%1.2f%%',label=\"Is smoker?\",title = \"Proportion of tips by smoker condition\")"
   ]
  },
  {
   "cell_type": "markdown",
   "metadata": {},
   "source": [
    "3- Create a pie chart showing the proportion of tips given by men and women"
   ]
  },
  {
   "cell_type": "code",
   "execution_count": null,
   "metadata": {},
   "outputs": [],
   "source": [
    "#charting the tips by sex type\n",
    "tips_by_sex_count  = tips_df[\"sex\"].value_counts()\n",
    "sex_proportion_chart  =tips_by_sex_count .plot(kind=\"pie\",autopct='%1.2f%%',label=\"Sex\",title = \"Proportion of tips by sex\")"
   ]
  },
  {
   "cell_type": "markdown",
   "metadata": {},
   "source": [
    "4- Create a stacked bar chart showing total bill and tip amounts by sex"
   ]
  },
  {
   "cell_type": "code",
   "execution_count": null,
   "metadata": {},
   "outputs": [],
   "source": [
    "# we use reset index to return the sex column as a regular column in the dataframe\n",
    "tip_amount_by_sex = tips_df.loc[:,[\"sex\",\"total_bill\",\"tip\"]].groupby(\"sex\").mean().reset_index()\n",
    "\n",
    "\n",
    "tips_by_sex_chart = tip_amount_by_sex.plot(kind=\"bar\",\n",
    "                                           x=\"sex\",\n",
    "                                           y=[\"total_bill\", \"tip\"],\n",
    "                                           stacked=True,\n",
    "                                           xlabel=\"Sex\",\n",
    "                                           ylabel=\"Amount\",\n",
    "                                           title=\"Tips and total bill amounts by sex\")\n"
   ]
  },
  {
   "cell_type": "markdown",
   "metadata": {},
   "source": [
    "5- Create a pie chart showing the proportion of tips per day of the week"
   ]
  },
  {
   "cell_type": "code",
   "execution_count": null,
   "metadata": {},
   "outputs": [],
   "source": [
    "daily_tips = tips_df['day'].value_counts()\n",
    "\n",
    "daily_tips_chart = daily_tips.plot(kind=\"pie\",\n",
    "                                   label=\"Day of the week\",\n",
    "                                   title=\"Tips per day of the week\",\n",
    "                                   autopct='%1.2f%%')\n"
   ]
  },
  {
   "cell_type": "markdown",
   "metadata": {},
   "source": [
    "6- Create a horizontal stacked bar chart showing total bill and tip amounts per day of the week"
   ]
  },
  {
   "cell_type": "code",
   "execution_count": null,
   "metadata": {},
   "outputs": [],
   "source": [
    "daily_mean = tips_df.loc[:,[\"day\",\"total_bill\",\"tip\"]].groupby(\"day\").mean().reset_index()\n",
    "\n",
    "tips_by_day_chart = daily_mean.plot(kind=\"barh\",\n",
    "                                    title = \"Tips and total bill amounts per day of the week\",\n",
    "                                    y = [\"tip\",\"total_bill\"],\n",
    "                                    x = \"day\",\n",
    "                                    xlabel = \"Tips and total bill amounts\",\n",
    "                                    ylabel = \"Day\",\n",
    "                                   stacked = True)\n"
   ]
  },
  {
   "cell_type": "markdown",
   "metadata": {},
   "source": [
    "7- Create a stacked bar chart showing total bill and tip amounts per moment of the day"
   ]
  },
  {
   "cell_type": "code",
   "execution_count": null,
   "metadata": {},
   "outputs": [],
   "source": [
    "dinner_lunch_df = tips_df.loc[:, [\"time\", \"total_bill\", \"tip\"]].groupby(\"time\").mean().reset_index()\n",
    "\n",
    "dinner_lunch_chart = dinner_lunch_df.plot(kind=\"bar\",\n",
    "                                    x=\"time\",\n",
    "                                    y=[\"total_bill\", \"tip\"],\n",
    "                                    stacked=True,\n",
    "                                    xlabel=\"Time\",\n",
    "                                    ylabel=\"Amount\",\n",
    "                                    title=\"Total bills and tips amount per moment of the day\")\n"
   ]
  }
 ],
 "metadata": {
  "language_info": {
   "name": "python"
  },
  "orig_nbformat": 4
 },
 "nbformat": 4,
 "nbformat_minor": 2
}
