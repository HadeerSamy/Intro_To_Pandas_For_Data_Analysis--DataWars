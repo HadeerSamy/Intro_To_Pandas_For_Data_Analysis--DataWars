{
 "cells": [
  {
   "cell_type": "markdown",
   "metadata": {},
   "source": [
    "# The Birthday Paradox in the NBA"
   ]
  },
  {
   "cell_type": "markdown",
   "metadata": {},
   "source": [
    "1- What's the probability when n = 10?"
   ]
  },
  {
   "cell_type": "code",
   "execution_count": null,
   "metadata": {},
   "outputs": [],
   "source": [
    "print(birthday_probability(10))"
   ]
  },
  {
   "cell_type": "markdown",
   "metadata": {},
   "source": [
    "2- What's the probability when n is 15?"
   ]
  },
  {
   "cell_type": "code",
   "execution_count": null,
   "metadata": {},
   "outputs": [],
   "source": [
    "print(birthday_probability(15))"
   ]
  },
  {
   "cell_type": "markdown",
   "metadata": {},
   "source": [
    "3- Write the function birthday_probability"
   ]
  },
  {
   "cell_type": "code",
   "execution_count": null,
   "metadata": {},
   "outputs": [],
   "source": [
    "#math.comb(n,k)  => n: no. of distinct items,  k: no. of items to choose  => it outputs the number of ways to do that\n",
    "def birthday_probability(number_of_people):\n",
    "    prob = 1 - ((364/365) **  math.comb(number_of_people, 2))\n",
    "    return prob"
   ]
  },
  {
   "cell_type": "markdown",
   "metadata": {},
   "source": [
    "4- Create the column Birthday in the df"
   ]
  },
  {
   "cell_type": "code",
   "execution_count": null,
   "metadata": {},
   "outputs": [],
   "source": [
    "df[\"Birthday\"] = df['Birth Date'].dt.strftime(\"%m-%d\")"
   ]
  },
  {
   "cell_type": "markdown",
   "metadata": {},
   "source": [
    "5- How many pairs of players share a birthday for the Atlanta Hawks?"
   ]
  },
  {
   "cell_type": "code",
   "execution_count": null,
   "metadata": {},
   "outputs": [],
   "source": [
    "team_df = df.loc[df[\"Team\"] == 'Atlanta Hawks']\n",
    "names_df_atl = pd.DataFrame(list(combinations(team_df['Player'], 2)), columns=['Player 1', 'Player 2'])\n",
    "births_df_atl = pd.DataFrame(list(combinations(team_df['Birthday'], 2)), columns=['Birthday 1', 'Birthday 2'])\n",
    "check_df = pd.concat([names_df_atl, births_df_atl], axis=1)\n",
    "(check_df[\"Birthday 1\"]== check_df[\"Birthday 2\"]).sum()"
   ]
  },
  {
   "cell_type": "markdown",
   "metadata": {},
   "source": [
    "6- How many pairs of players share a birthday in the Cleveland Cavaliers"
   ]
  },
  {
   "cell_type": "code",
   "execution_count": null,
   "metadata": {},
   "outputs": [],
   "source": []
  },
  {
   "cell_type": "markdown",
   "metadata": {},
   "source": [
    "7- In the Dallas Mavericks, who shares a birthday with J.J. Barea?"
   ]
  },
  {
   "cell_type": "code",
   "execution_count": null,
   "metadata": {},
   "outputs": [],
   "source": []
  }
 ],
 "metadata": {
  "language_info": {
   "name": "python"
  },
  "orig_nbformat": 4
 },
 "nbformat": 4,
 "nbformat_minor": 2
}
