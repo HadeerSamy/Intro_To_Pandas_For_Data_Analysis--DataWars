{
 "cells": [
  {
   "cell_type": "markdown",
   "metadata": {},
   "source": [
    "# Analyzing Apple and Tesla stocks"
   ]
  },
  {
   "cell_type": "markdown",
   "metadata": {},
   "source": [
    "1- Read CSV file"
   ]
  },
  {
   "cell_type": "code",
   "execution_count": null,
   "metadata": {},
   "outputs": [],
   "source": [
    "# Read apple.csv and tesla.csv file\n",
    "apple_df = pd.read_csv(\"apple.csv\", parse_dates=[\"Date\"])\n",
    "tesla_df = pd.read_csv(\"tesla.csv\", parse_dates = [\"Date\"])"
   ]
  },
  {
   "cell_type": "markdown",
   "metadata": {},
   "source": [
    "2- What is the shape for stocks data"
   ]
  },
  {
   "cell_type": "code",
   "execution_count": null,
   "metadata": {},
   "outputs": [],
   "source": [
    "# Check the shape of both apple and tesla stock data\n",
    "print(apple_df.shape)\n",
    "print(tesla_df.shape)"
   ]
  },
  {
   "cell_type": "markdown",
   "metadata": {},
   "source": [
    "3- Read specific columns"
   ]
  },
  {
   "cell_type": "code",
   "execution_count": null,
   "metadata": {},
   "outputs": [],
   "source": [
    "# read `Date` and `Close` columns from tesla stock data\n",
    "tesla_column_df = tesla_df[[\"Date\",\"Close\"]]"
   ]
  },
  {
   "cell_type": "markdown",
   "metadata": {},
   "source": [
    "4- Read specific rows"
   ]
  },
  {
   "cell_type": "code",
   "execution_count": null,
   "metadata": {},
   "outputs": [],
   "source": [
    "apple_row_df = pd.read_csv('apple.csv')\n",
    "apple_row_df = apple_row_df[(apple_row_df['Date'] >= '2022-03-01') & (apple_row_df['Date'] <= '2022-03-31')]"
   ]
  },
  {
   "cell_type": "markdown",
   "metadata": {},
   "source": [
    "5- What is the mean closing price of Apple"
   ]
  },
  {
   "cell_type": "code",
   "execution_count": null,
   "metadata": {},
   "outputs": [],
   "source": [
    "# Find the mean of `Close` column in apple stock data\n",
    "round(apple_df[\"Close\"].mean(),0)"
   ]
  },
  {
   "cell_type": "markdown",
   "metadata": {},
   "source": [
    "6- Select the correct mean"
   ]
  },
  {
   "cell_type": "code",
   "execution_count": null,
   "metadata": {},
   "outputs": [],
   "source": [
    "apple_df.describe()\n",
    "tesla_df.describe()\n",
    "# Apple Close mean: 151.007400\n",
    "# Tesla Low mean: 235.139587\n",
    "# Apple High mean: 152.972200\n",
    "# Tesla Open mean: 241.860813"
   ]
  },
  {
   "cell_type": "markdown",
   "metadata": {},
   "source": [
    "7- Find the maximum and minimum values"
   ]
  },
  {
   "cell_type": "code",
   "execution_count": null,
   "metadata": {},
   "outputs": [],
   "source": [
    "# Find the maximum and minimun values of `Close` column in tesla and apple stock data\n",
    "print(apple_df[\"Close\"].max(),\"apple, max\")\n",
    "print(apple_df[\"Close\"].min(),\"apple, min\")\n",
    "print(tesla_df[\"Close\"].max(),\"tesla, max\")\n",
    "print(tesla_df[\"Close\"].min(),\"tesla, min\")\n",
    "\n",
    "# All are correct"
   ]
  },
  {
   "cell_type": "markdown",
   "metadata": {},
   "source": [
    "8- Find the average and median values"
   ]
  },
  {
   "cell_type": "code",
   "execution_count": null,
   "metadata": {},
   "outputs": [],
   "source": [
    "# Find the average and median of `Close` column in tesla and apple stock data\n",
    "\n",
    "print(apple_df[\"Close\"].mean(),\"apple, mean\")\n",
    "print(apple_df[\"Close\"].median(),\"apple, median\")\n",
    "print(tesla_df[\"Close\"].mean(),\"tesla, mean\")\n",
    "print(tesla_df[\"Close\"].median(),\"tesla, median\")"
   ]
  },
  {
   "cell_type": "markdown",
   "metadata": {},
   "source": [
    "9- Create a new column"
   ]
  },
  {
   "cell_type": "code",
   "execution_count": null,
   "metadata": {},
   "outputs": [],
   "source": [
    "# Create a new column `High_Low_Diff` in tesla and apple stock data\n",
    "apple_df[\"High_Low_Diff\"] = apple_df[\"High\"] - apple_df[\"Low\"]\n",
    "tesla_df[\"High_Low_Diff\"] = tesla_df[\"High\"] - tesla_df[\"Low\"]"
   ]
  },
  {
   "cell_type": "markdown",
   "metadata": {},
   "source": [
    "10- Rename columns"
   ]
  },
  {
   "cell_type": "code",
   "execution_count": null,
   "metadata": {},
   "outputs": [],
   "source": [
    "# rename columns to make them more readable\n",
    "apple_df.rename(columns = {'Open': 'Apple_Open', 'High': 'Apple_High', 'Low': 'Apple_Low', 'Close': 'Apple_Close', 'Adj Close': 'Apple_Adj_Close', 'Volume': 'Apple_Volume'},inplace = True)\n",
    "tesla_df.rename(columns = {'Open': 'Tesla_Open', 'High': 'Tesla_High', 'Low': 'Tesla_Low', 'Close': 'Tesla_Close', 'Adj Close': 'Tesla_Adj_Close', 'Volume': 'Tesla_Volume'}, inplace = True)"
   ]
  },
  {
   "cell_type": "markdown",
   "metadata": {},
   "source": [
    "11- Drop all the rows of May 2022"
   ]
  },
  {
   "cell_type": "code",
   "execution_count": null,
   "metadata": {},
   "outputs": [],
   "source": [
    "indexApple = apple_df[(apple_df['Date'] >= pd.to_datetime('2022-05-01')) & (apple_df['Date'] <= pd.to_datetime('2022-05-31'))].index\n",
    "apple_df.drop(indexApple , inplace=True)\n",
    "\n",
    "indexTesla = tesla_df[(tesla_df['Date'] >= pd.to_datetime('2022-05-01')) & (tesla_df['Date'] <= pd.to_datetime('2022-05-31'))].index\n",
    "tesla_df.drop(indexTesla , inplace=True)\n"
   ]
  },
  {
   "cell_type": "markdown",
   "metadata": {},
   "source": [
    "12- Create new rows"
   ]
  },
  {
   "cell_type": "code",
   "execution_count": null,
   "metadata": {},
   "outputs": [],
   "source": [
    "ap = pd.DataFrame([{'Date': pd.to_datetime('2023-02-18'), 'Apple_Open': 300.0, 'Apple_High': 305.0, 'Apple_Low': 295.0, 'Apple_Close': 303.0, 'Apple_Adj_Close': 303.0, 'Apple_Volume': 50000000, 'High_Low_Diff': 10.0}])\n",
    "apple_df = pd.concat([apple_df,ap], ignore_index = True)\n",
    "\n",
    "ts = pd.DataFrame([{'Date': pd.to_datetime('2023-02-18'), 'Tesla_Open': 700.0, 'Tesla_High': 710.0, 'Tesla_Low': 690.0, 'Tesla_Close': 702.0, 'Tesla_Adj_Close': 702.0, 'Tesla_Volume': 20000000, 'High_Low_Diff': 20.0}])\n",
    "tesla_df = pd.concat([tesla_df, ts], ignore_index = True)"
   ]
  },
  {
   "cell_type": "markdown",
   "metadata": {},
   "source": [
    "13- Close value of february month"
   ]
  },
  {
   "cell_type": "code",
   "execution_count": null,
   "metadata": {},
   "outputs": [],
   "source": [
    "# try your own code here and select the correct answers\n",
    "print(apple_monthly[\"February\"])\n",
    "print(tesla_monthly[\"February\"])"
   ]
  },
  {
   "cell_type": "markdown",
   "metadata": {},
   "source": [
    "14- Which month has minimum Close value"
   ]
  },
  {
   "cell_type": "code",
   "execution_count": null,
   "metadata": {},
   "outputs": [],
   "source": [
    "# try your code here to find which month has minimum close value\n",
    "print(apple_monthly.loc[apple_monthly==apple_monthly.min()].index)\n",
    "print(tesla_monthly.loc[tesla_monthly==tesla_monthly.min()].index)"
   ]
  },
  {
   "cell_type": "markdown",
   "metadata": {},
   "source": [
    "15- Which month has maximum Close value"
   ]
  },
  {
   "cell_type": "code",
   "execution_count": null,
   "metadata": {},
   "outputs": [],
   "source": [
    "# try your code here to find which month has minimum close value\n",
    "print(apple_monthly.loc[apple_monthly==apple_monthly.max()].index)\n",
    "print(tesla_monthly.loc[tesla_monthly==tesla_monthly.max()].index)\n"
   ]
  },
  {
   "cell_type": "markdown",
   "metadata": {},
   "source": [
    "16- Write the mean of the Close value"
   ]
  },
  {
   "cell_type": "code",
   "execution_count": null,
   "metadata": {},
   "outputs": [],
   "source": [
    "print(apple_monthly.mean())\n",
    "print(tesla_monthly.mean())"
   ]
  },
  {
   "cell_type": "markdown",
   "metadata": {},
   "source": [
    "17- Filter the data based on specific criteria"
   ]
  },
  {
   "cell_type": "code",
   "execution_count": null,
   "metadata": {},
   "outputs": [],
   "source": [
    "# try your code here\n",
    "apple_pos = apple_df.loc[apple_df[\"Apple_Close\"]>apple_df[\"Apple_Open\"]]\n",
    "tesla_pos = tesla_df.loc[tesla_df[\"Tesla_Close\"]>tesla_df[\"Tesla_Open\"]]"
   ]
  },
  {
   "cell_type": "markdown",
   "metadata": {},
   "source": [
    "18- What is the shape of above filtered apple_pos dataframe"
   ]
  },
  {
   "cell_type": "code",
   "execution_count": null,
   "metadata": {},
   "outputs": [],
   "source": [
    "apple_pos.shape"
   ]
  },
  {
   "cell_type": "markdown",
   "metadata": {},
   "source": [
    "19- What is the shape of above filtered tesla_pos dataframe"
   ]
  },
  {
   "cell_type": "code",
   "execution_count": null,
   "metadata": {},
   "outputs": [],
   "source": [
    "tesla_pos.shape"
   ]
  },
  {
   "cell_type": "markdown",
   "metadata": {},
   "source": [
    "20- Filter Data Using Multiple Criteria"
   ]
  },
  {
   "cell_type": "code",
   "execution_count": null,
   "metadata": {},
   "outputs": [],
   "source": [
    "# filter the data to select rows where the volume is greater than 50 million and the closing price is greater than the opening price for Apple and Tesla stocks\n",
    "apple_filtered = apple_df.loc[(apple_df['Apple_Volume'] > 50000000) & (apple_df['Apple_Close'] > apple_df['Apple_Open'])]\n",
    "tesla_filtered = tesla_df.loc[(tesla_df['Tesla_Volume'] > 50000000) & (tesla_df['Tesla_Close'] > tesla_df['Tesla_Open'])]"
   ]
  },
  {
   "cell_type": "markdown",
   "metadata": {},
   "source": [
    "21- Filter Data Based on Column Values"
   ]
  },
  {
   "cell_type": "code",
   "execution_count": null,
   "metadata": {},
   "outputs": [],
   "source": [
    "# filter the data based on common values\n",
    "apple_filtered_close = apple_df.loc[apple_df[\"Apple_Close\"] >= 280]\n",
    "tesla_filtered_close = tesla_df.loc[tesla_df[\"Tesla_Close\"] >= 280]"
   ]
  },
  {
   "cell_type": "markdown",
   "metadata": {},
   "source": [
    "22- Read stock files and filter them for plotting"
   ]
  },
  {
   "cell_type": "code",
   "execution_count": null,
   "metadata": {},
   "outputs": [],
   "source": [
    "apple_df = pd.read_csv('apple.csv', parse_dates=['Date'])\n",
    "tesla_df = pd.read_csv('tesla.csv', parse_dates=['Date'])\n",
    "# read the apple and tesla stock data from August 2022 onwards.\n",
    "apple_pos = apple_df[(apple_df['Date'] >= pd.to_datetime('2022-08-01')) & (apple_df['Date'] <= pd.to_datetime('2022-08-31')) & (apple_df[\"Close\"]>apple_df[\"Open\"])]\n",
    "tesla_pos = tesla_df[(tesla_df['Date'] >= pd.to_datetime('2022-08-01')) & (tesla_df['Date'] <= pd.to_datetime('2022-08-31')) & (tesla_df[\"Close\"]>tesla_df[\"Open\"])]"
   ]
  },
  {
   "cell_type": "markdown",
   "metadata": {},
   "source": [
    "23- Plot Apple Close prices in August 2022"
   ]
  },
  {
   "cell_type": "code",
   "execution_count": null,
   "metadata": {},
   "outputs": [],
   "source": [
    "# Plot the Tesla Close prices starting in August 2022\n",
    "ax = apple_pos.plot(x=\"Date\",\n",
    "                   y = \"Close\",\n",
    "                   title = \"Apple Close Price from August 2022\",\n",
    "                   color = \"black\")"
   ]
  },
  {
   "cell_type": "markdown",
   "metadata": {},
   "source": [
    "24- Choose correct options based on line plot."
   ]
  },
  {
   "cell_type": "code",
   "execution_count": null,
   "metadata": {},
   "outputs": [],
   "source": [
    "ax = apple_pos.plot(x=\"Date\",\n",
    "                   y = \"Close\",\n",
    "                   title = \"Apple Close Price from August 2022\",\n",
    "                   color = \"black\")\n",
    "tx = tesla_pos.plot(x=\"Date\",\n",
    "                   y = \"Close\",\n",
    "                   title = \"Apple Close Price from August 2022\",\n",
    "                   color = \"black\")\n",
    "#The line chart for Apple stock is increasing plot first and then decreasing plot at the end.\n",
    "#The line chart for Tesla stock is decreasig plot at the end."
   ]
  },
  {
   "cell_type": "markdown",
   "metadata": {},
   "source": [
    "25- Choose correct options based on line plot"
   ]
  },
  {
   "cell_type": "code",
   "execution_count": null,
   "metadata": {},
   "outputs": [],
   "source": [
    "apple_pos.plot(x='Date', y='Volume', title = \"apple\")\n",
    "\n",
    "tesla_pos.plot(x='Date', y='Volume', title = \"tesla\", color = \"red\")\n",
    "#The maxima of the the line chart for apple stock is less than the maxima of the line chart for tesla stock.\n",
    "#The minima of the the line chart for apple stock is greater than the minima of the line chart for tesla stock."
   ]
  },
  {
   "cell_type": "markdown",
   "metadata": {},
   "source": [
    "26- Choose correct options based on bar plot"
   ]
  },
  {
   "cell_type": "code",
   "execution_count": null,
   "metadata": {},
   "outputs": [],
   "source": [
    "apple_pos.plot(x='Date', y='Volume', title = \"apple\", kind = \"bar\")\n",
    "\n",
    "tesla_pos.plot(x='Date', y='Volume', title = \"tesla\", color = \"red\", kind = \"bar\")"
   ]
  },
  {
   "cell_type": "markdown",
   "metadata": {},
   "source": [
    "27- Choose correct options based on bar plot"
   ]
  },
  {
   "cell_type": "code",
   "execution_count": null,
   "metadata": {},
   "outputs": [],
   "source": [
    "apple_pos.plot(x='Date', y='Close', title = \"apple\", kind = \"bar\")\n",
    "\n",
    "tesla_pos.plot(x='Date', y='Close', title = \"tesla\", color = \"red\", kind = \"bar\")"
   ]
  },
  {
   "cell_type": "markdown",
   "metadata": {},
   "source": [
    "28- Choose correct options based on pie plot"
   ]
  },
  {
   "cell_type": "code",
   "execution_count": null,
   "metadata": {},
   "outputs": [],
   "source": [
    "apple_pos.plot(x='Date', y='Close', title = \"apple\", kind = \"pie\")\n",
    "\n",
    "tesla_pos.plot(x='Date', y='Close', title = \"tesla\", kind = \"pie\")\n",
    "\n",
    "#The sum of the values of the pie chart for apple stock is not equal to the sum of the values of the pie chart for tesla stock.\n",
    "#The sum of the values of the pie chart for apple stock is greater than the sum of the values of the pie chart for tesla stock."
   ]
  },
  {
   "cell_type": "markdown",
   "metadata": {},
   "source": [
    "29- Choose correct option based on pie plot"
   ]
  },
  {
   "cell_type": "code",
   "execution_count": null,
   "metadata": {},
   "outputs": [],
   "source": [
    "apple_pos.plot(x='Date', y='Volume', title = \"apple\", kind = \"pie\")\n",
    "\n",
    "tesla_pos.plot(x='Date', y='Volume', title = \"tesla\", kind = \"pie\")\n",
    "\n",
    "#The sum of the values of the pie chart for apple stock is greater than the sum of the values of the pie chart for tesla stock.\n",
    "#The sum of the values of the pie chart for apple stock is not equal to the sum of the values of the pie chart for tesla stock."
   ]
  },
  {
   "cell_type": "markdown",
   "metadata": {},
   "source": [
    "30- Choose correct based on scatter plot"
   ]
  },
  {
   "cell_type": "code",
   "execution_count": null,
   "metadata": {},
   "outputs": [],
   "source": [
    "apple_pos.plot(x='Date', y='Close', title = \"apple\", kind = \"scatter\")\n",
    "\n",
    "tesla_pos.plot(x='Date', y='Close', title = \"tesla\", kind = \"scatter\")\n",
    "\n",
    "#The scatter plot for apple stock is more spread out than the scatter plot for tesla stock.\n",
    "#There are more points in the upper half of the tesla stock scatter plot than lower half of the tesla stock.\n",
    "#There are equal number of points in the upper half and lower half of the apple stock scatter plot.\n",
    "#The scatter plot for apple stock is less spread out than the scatter plot for tesla stock."
   ]
  }
 ],
 "metadata": {
  "language_info": {
   "name": "python"
  },
  "orig_nbformat": 4
 },
 "nbformat": 4,
 "nbformat_minor": 2
}
