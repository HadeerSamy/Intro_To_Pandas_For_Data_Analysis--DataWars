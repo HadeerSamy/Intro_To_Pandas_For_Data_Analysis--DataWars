{
 "cells": [
  {
   "cell_type": "markdown",
   "metadata": {},
   "source": [
    "# FIFA data"
   ]
  },
  {
   "cell_type": "markdown",
   "metadata": {},
   "source": [
    "1- Select all the rows and the first 5 columns from the dataframe and store them in the variable df_first_five_cols"
   ]
  },
  {
   "cell_type": "code",
   "execution_count": null,
   "metadata": {},
   "outputs": [],
   "source": [
    "#get the first five columns\n",
    "df_first_five_cols = df.iloc[:,0:5]"
   ]
  },
  {
   "cell_type": "markdown",
   "metadata": {},
   "source": [
    "2- Select all rows and the given Columns number 3,6,4,1 from the dataframe in the given order and store your selection in the variable df_order_cols"
   ]
  },
  {
   "cell_type": "code",
   "execution_count": null,
   "metadata": {},
   "outputs": [],
   "source": [
    "df_order_cols = df.iloc[:,[3,6,4,1]]"
   ]
  },
  {
   "cell_type": "markdown",
   "metadata": {},
   "source": [
    "3- Filter out 50 rows from the Colum number 3,6,4,1 into the variable fifty_rows"
   ]
  },
  {
   "cell_type": "code",
   "execution_count": null,
   "metadata": {},
   "outputs": [],
   "source": [
    "#getting 50 rows\n",
    "fifty_rows = df_order_cols.iloc[0:50,:]"
   ]
  },
  {
   "cell_type": "markdown",
   "metadata": {},
   "source": [
    "4- Select the all rows and the Columns ['short_name','age','player_positions', 'overall', 'value_eur'] from the dataframe store your selection in the variable named_cols"
   ]
  },
  {
   "cell_type": "code",
   "execution_count": null,
   "metadata": {},
   "outputs": [],
   "source": [
    "named_cols= df.loc[:, ['short_name','age','player_positions', 'overall', 'value_eur']]"
   ]
  },
  {
   "cell_type": "markdown",
   "metadata": {},
   "source": [
    "5- Filter out the first 13 rows and the Columns ['short_name','age','player_positions', 'overall', 'value_eur'] from the dataframe and store the result in the variable named_cols_rows"
   ]
  },
  {
   "cell_type": "code",
   "execution_count": null,
   "metadata": {},
   "outputs": [],
   "source": [
    "named_cols_rows = named_cols.iloc[0:13,:]"
   ]
  },
  {
   "cell_type": "markdown",
   "metadata": {},
   "source": [
    "6- Find out how many players of overall rating greater than 90 exists in the dataset?"
   ]
  },
  {
   "cell_type": "code",
   "execution_count": null,
   "metadata": {},
   "outputs": [],
   "source": [
    "num = len(df.loc[df[\"overall\"] > 90].index)\n",
    "num"
   ]
  },
  {
   "cell_type": "markdown",
   "metadata": {},
   "source": [
    "7- Find out how many players with a value_eur of less than or equal to 20,000 exist in the dataset"
   ]
  },
  {
   "cell_type": "code",
   "execution_count": null,
   "metadata": {},
   "outputs": [],
   "source": [
    "numLess = len(df.loc[df[\"value_eur\"] <= 20000].index)\n",
    "numLess"
   ]
  },
  {
   "cell_type": "markdown",
   "metadata": {},
   "source": [
    "8- Select the long_name and age of the players having the club_name='Manchester City' and store your selection in the variable name long_name_age"
   ]
  },
  {
   "cell_type": "code",
   "execution_count": null,
   "metadata": {},
   "outputs": [],
   "source": [
    "long_name_age = df.loc[df[\"club_name\"] == \"Manchester City\",[\"long_name\",\"age\"]]"
   ]
  },
  {
   "cell_type": "markdown",
   "metadata": {},
   "source": [
    "9- Filter out the players who are players of Liverpool club and who are from Brazil and store them in the variable liverpool_brazil"
   ]
  },
  {
   "cell_type": "code",
   "execution_count": null,
   "metadata": {},
   "outputs": [],
   "source": [
    "liverpool_brazil = df.loc[(df[\"club_name\"] == \"Liverpool\") & (df[\"nationality_name\"] == \"Brazil\")]"
   ]
  },
  {
   "cell_type": "markdown",
   "metadata": {},
   "source": [
    "10- How many players are there who have either mentality_aggression > 91 or power_stamina < 80"
   ]
  },
  {
   "cell_type": "code",
   "execution_count": null,
   "metadata": {},
   "outputs": [],
   "source": [
    "number = len(df.query(\"mentality_aggression > 91 or power_stamina < 80\").index)\n",
    "number"
   ]
  },
  {
   "cell_type": "markdown",
   "metadata": {},
   "source": [
    "11- Select all players from France who have either mentality_aggression > 91 or power_stamina < 80 and store the filtered data in the variable france_player"
   ]
  },
  {
   "cell_type": "code",
   "execution_count": null,
   "metadata": {},
   "outputs": [],
   "source": [
    "france_player = df.query(\" nationality_name == 'France' and (mentality_aggression > 91 or power_stamina < 80)\")"
   ]
  },
  {
   "cell_type": "markdown",
   "metadata": {},
   "source": [
    "12- how many players have Left foot as their preferred_foot, also print their short_name,age and preferred_foot"
   ]
  },
  {
   "cell_type": "code",
   "execution_count": null,
   "metadata": {},
   "outputs": [],
   "source": [
    "left_foot_players = df.loc[df[\"preferred_foot\"] == \"Left\", [\"short_name\",\"age\",\"preferred_foot\"]]"
   ]
  }
 ],
 "metadata": {
  "language_info": {
   "name": "python"
  },
  "orig_nbformat": 4
 },
 "nbformat": 4,
 "nbformat_minor": 2
}
