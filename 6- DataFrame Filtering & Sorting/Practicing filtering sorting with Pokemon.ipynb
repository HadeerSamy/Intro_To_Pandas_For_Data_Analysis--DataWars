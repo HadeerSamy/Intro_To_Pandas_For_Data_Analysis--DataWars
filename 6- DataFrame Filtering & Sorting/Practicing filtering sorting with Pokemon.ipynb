{
 "cells": [
  {
   "cell_type": "markdown",
   "metadata": {},
   "source": [
    "# Filtering sorting with Pokemon"
   ]
  },
  {
   "cell_type": "markdown",
   "metadata": {},
   "source": [
    "1- How many Pokemons exist with an Attack value greater than 150?"
   ]
  },
  {
   "cell_type": "code",
   "execution_count": null,
   "metadata": {},
   "outputs": [],
   "source": [
    "num150 = len(df.query(\"Attack >150\"))\n",
    "num150"
   ]
  },
  {
   "cell_type": "markdown",
   "metadata": {},
   "source": [
    "2- Select all pokemons with a Speed of 10 or less"
   ]
  },
  {
   "cell_type": "code",
   "execution_count": null,
   "metadata": {},
   "outputs": [],
   "source": [
    "slow_pokemons_df = df.query(\"Speed <=10\")"
   ]
  },
  {
   "cell_type": "markdown",
   "metadata": {},
   "source": [
    "3- How many Pokemons have a Sp. Def value of 25 or less?"
   ]
  },
  {
   "cell_type": "code",
   "execution_count": null,
   "metadata": {},
   "outputs": [],
   "source": [
    "sp25 = len(df.loc[df[\"Sp. Def\"] <= 25])\n",
    "sp25"
   ]
  },
  {
   "cell_type": "markdown",
   "metadata": {},
   "source": [
    "4- Select all the Legendary pokemons"
   ]
  },
  {
   "cell_type": "code",
   "execution_count": null,
   "metadata": {},
   "outputs": [],
   "source": [
    "legendary_df = df.loc[df[\"Legendary\"] == True]"
   ]
  },
  {
   "cell_type": "markdown",
   "metadata": {},
   "source": [
    "5- Find the outlier"
   ]
  },
  {
   "cell_type": "code",
   "execution_count": null,
   "metadata": {},
   "outputs": [],
   "source": [
    "out = df.loc[df[\"Defense\"] == df[\"Defense\"].max()]\n",
    "out[\"Name\"]"
   ]
  },
  {
   "cell_type": "markdown",
   "metadata": {},
   "source": [
    "6- How many Fire-Flying Pokemons are there?"
   ]
  },
  {
   "cell_type": "code",
   "execution_count": null,
   "metadata": {},
   "outputs": [],
   "source": [
    "summy = len(df.loc[(df[\"Type 1\"] == \"Fire\") & (df[\"Type 2\"] == \"Flying\")])\n",
    "summy"
   ]
  },
  {
   "cell_type": "markdown",
   "metadata": {},
   "source": [
    "7- How many 'Poison' pokemons are across both types?"
   ]
  },
  {
   "cell_type": "code",
   "execution_count": null,
   "metadata": {},
   "outputs": [],
   "source": [
    "Poison = len(df.loc[(df[\"Type 1\"] == \"Poison\") | (df[\"Type 2\"] == \"Poison\")])\n",
    "Poison"
   ]
  },
  {
   "cell_type": "markdown",
   "metadata": {},
   "source": [
    "8- What pokemon of Type 1 Ice has the strongest defense?"
   ]
  },
  {
   "cell_type": "code",
   "execution_count": null,
   "metadata": {},
   "outputs": [],
   "source": [
    "df_Ice = df.loc[df[\"Type 1\"] == \"Ice\"]\n",
    "strongestIce = df_Ice.loc[df_Ice[\"Defense\"] == df_Ice[\"Defense\"].max()]\n",
    "strongestIce[\"Name\"]"
   ]
  },
  {
   "cell_type": "markdown",
   "metadata": {},
   "source": [
    "9- What's the most common type of Legendary Pokemons?"
   ]
  },
  {
   "cell_type": "code",
   "execution_count": null,
   "metadata": {},
   "outputs": [],
   "source": [
    "leg = df.loc[df[\"Legendary\"] == True]\n",
    "commonType = leg[\"Type 1\"].mode()\n",
    "commonType"
   ]
  },
  {
   "cell_type": "markdown",
   "metadata": {},
   "source": [
    "10- What's the most powerful pokemon from the first 3 generations, of type water?"
   ]
  },
  {
   "cell_type": "code",
   "execution_count": null,
   "metadata": {},
   "outputs": [],
   "source": [
    "water = df.loc[df[\"Type 1\"]==\"Water\"]\n",
    "gen = water.loc[(water[\"Generation\"] == 1) | (water[\"Generation\"] == 2) | (water[\"Generation\"] == 3)]\n",
    "chosen = gen.loc[gen[\"Total\"] == gen[\"Total\"].max()]\n",
    "chosen[\"Name\"]"
   ]
  },
  {
   "cell_type": "markdown",
   "metadata": {},
   "source": [
    "11- What's the most powerful Dragon from the last two generations?"
   ]
  },
  {
   "cell_type": "code",
   "execution_count": null,
   "metadata": {},
   "outputs": [],
   "source": [
    "lastGen = df[\"Generation\"].max()\n",
    "last2 = (lastGen, lastGen - 1)\n",
    "chosey = df.loc[(df[\"Generation\"].isin(last2)) & ((df[\"Type 1\"]==\"Dragon\") | (df[\"Type 2\"]==\"Dragon\"))].sort_values(by=\"Total\", ascending = False).head()\n",
    "chosey"
   ]
  },
  {
   "cell_type": "markdown",
   "metadata": {},
   "source": [
    "12- Select most powerful Fire-type pokemons"
   ]
  },
  {
   "cell_type": "code",
   "execution_count": null,
   "metadata": {},
   "outputs": [],
   "source": [
    "powerful_fire_df = df.loc[(df[\"Attack\"] > 100) & (df[\"Type 1\"] == \"Fire\")]"
   ]
  },
  {
   "cell_type": "markdown",
   "metadata": {},
   "source": [
    "13- Select all Water-type, Flying-type pokemons"
   ]
  },
  {
   "cell_type": "code",
   "execution_count": null,
   "metadata": {},
   "outputs": [],
   "source": [
    "water_flying_df = df.loc[(df[\"Type 1\"] == \"Water\") & (df[\"Type 2\"] == \"Flying\")]"
   ]
  },
  {
   "cell_type": "markdown",
   "metadata": {},
   "source": [
    "14- Select specific columns of Legendary pokemons of type Fire"
   ]
  },
  {
   "cell_type": "code",
   "execution_count": null,
   "metadata": {},
   "outputs": [],
   "source": [
    "legendary_fire_df = df.loc[(df[\"Legendary\"] == True) & (df[\"Type 1\"] == \"Fire\"),[\"Name\",\"Attack\",\"Generation\"]]"
   ]
  },
  {
   "cell_type": "markdown",
   "metadata": {},
   "source": [
    "15- Select Slow and Fast pokemons"
   ]
  },
  {
   "cell_type": "code",
   "execution_count": null,
   "metadata": {},
   "outputs": [],
   "source": [
    "slow_fast_df = df.loc[(df[\"Speed\"] < df[\"Speed\"].quantile(0.05)) | (df[\"Speed\"] > df[\"Speed\"].quantile(0.95)) ]"
   ]
  },
  {
   "cell_type": "markdown",
   "metadata": {},
   "source": [
    "16- Find the Ultra Powerful Legendary Pokemon"
   ]
  },
  {
   "cell_type": "code",
   "execution_count": null,
   "metadata": {},
   "outputs": [],
   "source": [
    "na = df.loc[(df[\"Legendary\"]) & (df[\"Attack\"] > 140)].sort_values(by = \"Defense\", ascending = False).head(1)\n",
    "na"
   ]
  }
 ],
 "metadata": {
  "language_info": {
   "name": "python"
  },
  "orig_nbformat": 4
 },
 "nbformat": 4,
 "nbformat_minor": 2
}
