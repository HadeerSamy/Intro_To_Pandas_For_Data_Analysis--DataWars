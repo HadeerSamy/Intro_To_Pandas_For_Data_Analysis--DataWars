{
 "cells": [
  {
   "cell_type": "markdown",
   "metadata": {},
   "source": [
    "# Video Game sales data"
   ]
  },
  {
   "cell_type": "markdown",
   "metadata": {},
   "source": [
    "1- Filter Games by Genre"
   ]
  },
  {
   "cell_type": "code",
   "execution_count": null,
   "metadata": {},
   "outputs": [],
   "source": [
    "sports_df = df.loc[df[\"Genre\"] == \"Sports\"]"
   ]
  },
  {
   "cell_type": "markdown",
   "metadata": {},
   "source": [
    "2- Filter the dataset to retrieve games with sales exceeding a certain threshold in North America"
   ]
  },
  {
   "cell_type": "code",
   "execution_count": null,
   "metadata": {},
   "outputs": [],
   "source": [
    "#getting the na sales greater than 1\n",
    "na_sales_df = df.loc[df[\"NA_Sales\"] > 1]"
   ]
  },
  {
   "cell_type": "markdown",
   "metadata": {},
   "source": [
    "3- Retrieve games released on a specific platform in a particular year"
   ]
  },
  {
   "cell_type": "code",
   "execution_count": null,
   "metadata": {},
   "outputs": [],
   "source": [
    "ps2_2005_df = df.loc[(df[\"Platform\"] == \"PS2\") & (df[\"Year\"] == 2005)]"
   ]
  },
  {
   "cell_type": "markdown",
   "metadata": {},
   "source": [
    "4- Filter Games by Global Sales Range"
   ]
  },
  {
   "cell_type": "code",
   "execution_count": null,
   "metadata": {},
   "outputs": [],
   "source": [
    "global_sales_df = df.loc[(df[\"Global_Sales\"] >= 20.0) & (df[\"Global_Sales\"] <= 30.0) ]"
   ]
  },
  {
   "cell_type": "markdown",
   "metadata": {},
   "source": [
    "5- Filter games by Publisher and Genre"
   ]
  },
  {
   "cell_type": "code",
   "execution_count": null,
   "metadata": {},
   "outputs": [],
   "source": [
    "nintendo_action_df = df.loc[(df[\"Genre\"] == \"Action\") & (df[\"Publisher\"] == \"Nintendo\")]"
   ]
  },
  {
   "cell_type": "markdown",
   "metadata": {},
   "source": [
    "6- Retrieve games belonging to multiple genres"
   ]
  },
  {
   "cell_type": "code",
   "execution_count": null,
   "metadata": {},
   "outputs": [],
   "source": [
    "action_sports_df = df.loc[df['Genre'].isin(['Action', 'Sports'])]"
   ]
  },
  {
   "cell_type": "markdown",
   "metadata": {},
   "source": [
    "7- Select the games from the dataset based on multiple criteria, such as platform, genre, and sales"
   ]
  },
  {
   "cell_type": "code",
   "execution_count": null,
   "metadata": {},
   "outputs": [],
   "source": [
    "ps2_action_sports_df = df.loc[(df[\"Genre\"].isin([\"Action\",\"Sports\"])) & (df[\"Platform\"]==\"PS2\") & (df[\"Global_Sales\"] > 5.0) & (df[\"Global_Sales\"] < 30.0)]"
   ]
  },
  {
   "cell_type": "markdown",
   "metadata": {},
   "source": [
    "8- Filter Games by global sales range"
   ]
  },
  {
   "cell_type": "code",
   "execution_count": null,
   "metadata": {},
   "outputs": [],
   "source": [
    "filtered_query_df = df.loc[(df[\"Global_Sales\"] >= 5.0) & (df[\"Global_Sales\"] <= 30.0)]"
   ]
  },
  {
   "cell_type": "markdown",
   "metadata": {},
   "source": [
    "9- Filter Games by Platform and Global Sales"
   ]
  },
  {
   "cell_type": "code",
   "execution_count": null,
   "metadata": {},
   "outputs": [],
   "source": [
    "query_ps2_df = df.loc[(df[\"Platform\"] == \"PS2\") & (df[\"Global_Sales\"] > 5.0)]"
   ]
  },
  {
   "cell_type": "markdown",
   "metadata": {},
   "source": [
    "10- Filtering Rows and Columns for games released after 2000"
   ]
  },
  {
   "cell_type": "code",
   "execution_count": null,
   "metadata": {},
   "outputs": [],
   "source": [
    "query_rows_cols_df = df.loc[(df[\"Year\"] > 2000) & (df[\"Global_Sales\"] > 5.0),[\"Name\",\"Platform\",\"Year\",\"Global_Sales\"]]"
   ]
  },
  {
   "cell_type": "markdown",
   "metadata": {},
   "source": [
    "11- Filter the dataset to include games with a platform of either PS4 or NES, and display only the columns Name, NA_Sales, and EU_Sales"
   ]
  },
  {
   "cell_type": "code",
   "execution_count": null,
   "metadata": {},
   "outputs": [],
   "source": [
    "query_rows_cols_df2 = df.loc[df[\"Platform\"].isin([\"PS4\", \"NES\"]),[\"Name\",\"NA_Sales\",\"EU_Sales\"]]"
   ]
  },
  {
   "cell_type": "markdown",
   "metadata": {},
   "source": [
    "12- Get the sales data (all regions) for the top 10 games"
   ]
  },
  {
   "cell_type": "code",
   "execution_count": null,
   "metadata": {},
   "outputs": [],
   "source": [
    "top10_df = df.head(10)[['Name', 'NA_Sales', 'EU_Sales', 'JP_Sales', 'Other_Sales', 'Global_Sales']]"
   ]
  },
  {
   "cell_type": "markdown",
   "metadata": {},
   "source": [
    "13- Calculate the average sales in North America (NA_Sales) for the Action genre"
   ]
  },
  {
   "cell_type": "code",
   "execution_count": null,
   "metadata": {},
   "outputs": [],
   "source": [
    "round(df.loc[df[\"Genre\"]==\"Action\"][\"NA_Sales\"].mean(),2)"
   ]
  },
  {
   "cell_type": "markdown",
   "metadata": {},
   "source": [
    "14- Find the genre with the highest sales in Japan (JP_Sales)"
   ]
  },
  {
   "cell_type": "code",
   "execution_count": null,
   "metadata": {},
   "outputs": [],
   "source": [
    "df.loc[df[\"JP_Sales\"]==df[\"JP_Sales\"].max()][\"Genre\"]"
   ]
  },
  {
   "cell_type": "markdown",
   "metadata": {},
   "source": [
    "15- Determine the average sales in Europe (EU_Sales) for games published by Electronic Arts"
   ]
  },
  {
   "cell_type": "code",
   "execution_count": null,
   "metadata": {},
   "outputs": [],
   "source": [
    "round(df.loc[df[\"Publisher\"] == \"Electronic Arts\"][\"EU_Sales\"].mean(),2)"
   ]
  },
  {
   "cell_type": "markdown",
   "metadata": {},
   "source": [
    "16- Find all the games released between 2005 and 2010 (inclusive) with multiple condition"
   ]
  },
  {
   "cell_type": "code",
   "execution_count": null,
   "metadata": {},
   "outputs": [],
   "source": [
    "games_2005_2010 = df.loc[(df[\"Year\"] >= 2005) & (df[\"Year\"] <= 2010) & (df[\"Genre\"]== \"Action\") & (df[\"Global_Sales\"]>5)]"
   ]
  },
  {
   "cell_type": "markdown",
   "metadata": {},
   "source": [
    "17- Find the top 10 games with multiple filters"
   ]
  },
  {
   "cell_type": "code",
   "execution_count": null,
   "metadata": {},
   "outputs": [],
   "source": [
    "top_10_shooter_2010 = df.loc[(df[\"Genre\"] == \"Shooter\") & (df[\"Year\"] > 2010),[\"Name\",\"NA_Sales\",\"EU_Sales\",\"JP_Sales\",\"Other_Sales\",\"Global_Sales\"]].sort_values(by = \"NA_Sales\" , ascending = False).head(10)"
   ]
  },
  {
   "cell_type": "markdown",
   "metadata": {},
   "source": [
    "18- Fill in the blanks to complete the code for conditional filtering and aggregation operations"
   ]
  },
  {
   "cell_type": "markdown",
   "metadata": {},
   "source": [
    "###### 2012, sum"
   ]
  }
 ],
 "metadata": {
  "language_info": {
   "name": "python"
  },
  "orig_nbformat": 4
 },
 "nbformat": 4,
 "nbformat_minor": 2
}
