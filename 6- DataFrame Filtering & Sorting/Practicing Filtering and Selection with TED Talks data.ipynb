{
 "cells": [
  {
   "cell_type": "markdown",
   "metadata": {},
   "source": [
    "# TED Talks data"
   ]
  },
  {
   "cell_type": "markdown",
   "metadata": {},
   "source": [
    "1- Filter for talks that have a minimum of 1 million views (include only \"view_count\" then \"speaker_name\" columns in the subdataframe)"
   ]
  },
  {
   "cell_type": "code",
   "execution_count": null,
   "metadata": {},
   "outputs": [],
   "source": [
    "df_more_than_1million = df.loc[df[\"view_count\"] >= 1000000,[\"view_count\",\"speaker_name\"]]"
   ]
  },
  {
   "cell_type": "markdown",
   "metadata": {},
   "source": [
    "2- Filter all talks that have a comment count greater than 2,000 and are given by speakers with the occupation of \"Artist\""
   ]
  },
  {
   "cell_type": "code",
   "execution_count": null,
   "metadata": {},
   "outputs": [],
   "source": [
    "df_commented_artists = df.loc[(df[\"comment_count\"] > 2000) & (df[\"speaker_occupation\"] == \"Artist\"),:]"
   ]
  },
  {
   "cell_type": "markdown",
   "metadata": {},
   "source": [
    "3- Filter all talks that have a duration of more than 60 minutes"
   ]
  },
  {
   "cell_type": "code",
   "execution_count": null,
   "metadata": {},
   "outputs": [],
   "source": [
    "df_long_duration = df.loc[df[\"duration\"]/60 > 60]"
   ]
  },
  {
   "cell_type": "markdown",
   "metadata": {},
   "source": [
    "4- Filter talks where the number of comments is greater than or equal to the duration"
   ]
  },
  {
   "cell_type": "code",
   "execution_count": null,
   "metadata": {},
   "outputs": [],
   "source": [
    "df_high_comments = df.loc[df[\"comment_count\"] >= df[\"duration\"]]"
   ]
  },
  {
   "cell_type": "markdown",
   "metadata": {},
   "source": [
    "5- Filter talks where the duration is not greater than nor equal to the average duration"
   ]
  },
  {
   "cell_type": "code",
   "execution_count": null,
   "metadata": {},
   "outputs": [],
   "source": [
    "df_short_talks = df.loc[df[\"duration\"] < df[\"duration\"].mean()]"
   ]
  },
  {
   "cell_type": "markdown",
   "metadata": {},
   "source": [
    "6- Filter all talks that have a view count greater than 10 million, are given in the English language, and are themed with \"Culture\""
   ]
  },
  {
   "cell_type": "code",
   "execution_count": null,
   "metadata": {},
   "outputs": [],
   "source": [
    "df_popular_english_culture = df.query(\"view_count > 10000000 and language == 'en' and theme == 'Culture'\")"
   ]
  },
  {
   "cell_type": "markdown",
   "metadata": {},
   "source": [
    "7- Filter all talks that have a view count between 1 million and 2 million inclusive, were published after January 1, 2019, and are themed with either \"Science\" or \"Technology\""
   ]
  },
  {
   "cell_type": "code",
   "execution_count": null,
   "metadata": {},
   "outputs": [],
   "source": [
    "df_medium_science_tech = df.query(\"view_count >= 1000000 and view_count <= 2000000 and published_date > '2019-01-01' and (theme == 'Science' or theme == 'Technology')\")"
   ]
  },
  {
   "cell_type": "markdown",
   "metadata": {},
   "source": [
    "8- Select the speaker name of the highest talk in views which published in Jan or Aug and its speaker is 'Journalist' or 'Entrepreneur' and its duration is less than 8 min"
   ]
  },
  {
   "cell_type": "code",
   "execution_count": null,
   "metadata": {},
   "outputs": [],
   "source": [
    "#extrct month from date\n",
    "df['published_month'] = pd.to_datetime(df['published_date']).dt.month\n",
    "\n",
    "# Filter talks that were published in either January or August\n",
    "df_jan_aug = df.loc[(df['published_month'] == 1) | (df['published_month'] == 8)]\n",
    "\n",
    "# Filter talks with speakers who are journalists or entrepreneurs\n",
    "df_journalists_entrepreneurs = df_jan_aug.loc[(df_jan_aug['speaker_occupation'] == 'Journalist') | (df_jan_aug['speaker_occupation'] == 'Entrepreneur')]\n",
    "\n",
    "# Filter talks with a duration of less than 8 minutes (480 seconds)\n",
    "df_below_8m_talks = df_journalists_entrepreneurs.loc[df_journalists_entrepreneurs['duration'] < 480]\n",
    "\n",
    "\n",
    "\n",
    "# Get the talk with the highest views\n",
    "highest_view_talk_speaker = df_below_8m_talks.loc[df_below_8m_talks['view_count'].idxmax()].speaker_name\n"
   ]
  },
  {
   "cell_type": "markdown",
   "metadata": {},
   "source": [
    "9- Select the name, speaker_name, and event columns for talks where the view_count exceeds the average view_count by three times the standard deviation of the view_count"
   ]
  },
  {
   "cell_type": "code",
   "execution_count": null,
   "metadata": {},
   "outputs": [],
   "source": [
    "df_talks_more_than_std = df.loc[df['view_count'] > (df['view_count'].mean() + 3 * df['view_count'].std()), ['name', 'speaker_name', 'event']]"
   ]
  },
  {
   "cell_type": "markdown",
   "metadata": {},
   "source": [
    "10- Select all talks that are either in English 'en' and have a duration greater than 10 minutes or are in Spanish 'es' and have a duration greater than 5 minutes"
   ]
  },
  {
   "cell_type": "code",
   "execution_count": null,
   "metadata": {},
   "outputs": [],
   "source": [
    "df_long_en_es_talks = df.loc[((df['language'] == 'en') & (df['duration'] > 10*60)) | ((df['language'] == 'es') & (df['duration'] > 5*60))]"
   ]
  }
 ],
 "metadata": {
  "language_info": {
   "name": "python"
  },
  "orig_nbformat": 4
 },
 "nbformat": 4,
 "nbformat_minor": 2
}
