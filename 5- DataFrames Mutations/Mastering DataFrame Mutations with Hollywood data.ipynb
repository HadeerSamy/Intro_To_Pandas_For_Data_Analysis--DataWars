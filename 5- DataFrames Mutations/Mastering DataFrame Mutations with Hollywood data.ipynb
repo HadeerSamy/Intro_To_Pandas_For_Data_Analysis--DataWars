{
 "cells": [
  {
   "cell_type": "markdown",
   "id": "80762ec8-ef50-4c3c-84bf-14e9a4cdfe78",
   "metadata": {},
   "source": [
    "# Hollywood data\n"
   ]
  },
  {
   "cell_type": "markdown",
   "id": "2c5845c9-06bd-4b1b-82d8-9c803d417936",
   "metadata": {},
   "source": [
    "1- Create a new column revenue"
   ]
  },
  {
   "cell_type": "code",
   "execution_count": null,
   "id": "fb185a2e-4bef-4f89-8073-0bd1b7391c45",
   "metadata": {},
   "outputs": [],
   "source": [
    "df[\"revenue\"] = df[\"gross\"] - df[\"budget\"]"
   ]
  },
  {
   "cell_type": "markdown",
   "id": "18aff66f",
   "metadata": {},
   "source": [
    "2- Create a new column percentage_profit"
   ]
  },
  {
   "cell_type": "code",
   "execution_count": null,
   "id": "145443c6",
   "metadata": {},
   "outputs": [],
   "source": [
    "df[\"percentage_profit\"] = (df[\"revenue\"] / df[\"gross\"]) * 100"
   ]
  },
  {
   "cell_type": "markdown",
   "id": "8c971053",
   "metadata": {},
   "source": [
    "3- Create a new column high_budget_movie"
   ]
  },
  {
   "cell_type": "code",
   "execution_count": null,
   "id": "c8f02871",
   "metadata": {},
   "outputs": [],
   "source": [
    "df[\"high_budget_movie\"] = df[\"budget\"] > 100000000"
   ]
  },
  {
   "cell_type": "markdown",
   "id": "63cd2c89",
   "metadata": {},
   "source": [
    "4- Create a new column successful_movie"
   ]
  },
  {
   "cell_type": "code",
   "execution_count": null,
   "id": "f4db293f",
   "metadata": {},
   "outputs": [],
   "source": [
    "df[\"successful_movie\"] = df[\"percentage_profit\"] > 50"
   ]
  },
  {
   "cell_type": "markdown",
   "id": "29650b66",
   "metadata": {},
   "source": [
    "5-  High-Rated Movies "
   ]
  },
  {
   "cell_type": "code",
   "execution_count": null,
   "id": "31f953e7",
   "metadata": {},
   "outputs": [],
   "source": [
    "df[\"high_rated_movie\"] = df[\"score\"] > 8"
   ]
  },
  {
   "cell_type": "markdown",
   "id": "9346e688",
   "metadata": {},
   "source": [
    "6- Create a new column is_new_release"
   ]
  },
  {
   "cell_type": "code",
   "execution_count": null,
   "id": "5ff3a2b2",
   "metadata": {},
   "outputs": [],
   "source": [
    "df[\"is_new_release\"] = df[\"year\"] > 2020"
   ]
  },
  {
   "cell_type": "markdown",
   "id": "b3813600",
   "metadata": {},
   "source": [
    "7- Create a new column is_long_movie"
   ]
  },
  {
   "cell_type": "code",
   "execution_count": null,
   "id": "f060c157",
   "metadata": {},
   "outputs": [],
   "source": [
    "df[\"is_long_movie\"] = df[\"runtime\"] > 150"
   ]
  },
  {
   "cell_type": "markdown",
   "id": "1e01640c",
   "metadata": {},
   "source": [
    "8- Drop unsuccessful movie."
   ]
  },
  {
   "cell_type": "code",
   "execution_count": null,
   "id": "c70dc1aa",
   "metadata": {},
   "outputs": [],
   "source": [
    "df.drop(df.loc[df[\"successful_movie\"] == False].index, inplace = True)"
   ]
  },
  {
   "cell_type": "markdown",
   "id": "99631283",
   "metadata": {},
   "source": [
    "9- Drop high budget movie"
   ]
  },
  {
   "cell_type": "code",
   "execution_count": null,
   "id": "75f0ddd4",
   "metadata": {},
   "outputs": [],
   "source": [
    "low_budget_df = df.drop(df.loc[df[\"budget\"]>100000000].index)"
   ]
  },
  {
   "cell_type": "markdown",
   "id": "47185889",
   "metadata": {},
   "source": [
    "10- Removing Low-Voted Movies"
   ]
  },
  {
   "cell_type": "code",
   "execution_count": null,
   "id": "633bea24",
   "metadata": {},
   "outputs": [],
   "source": [
    "high_voted_df = df.drop(df.loc[df[\"votes\"]<1000].index)"
   ]
  },
  {
   "cell_type": "markdown",
   "id": "1dd39b82",
   "metadata": {},
   "source": [
    "11- Drop the column budget"
   ]
  },
  {
   "cell_type": "code",
   "execution_count": null,
   "id": "55d1e1a4",
   "metadata": {},
   "outputs": [],
   "source": [
    "df.drop(\"budget\", axis = 1, inplace = True)"
   ]
  },
  {
   "cell_type": "markdown",
   "id": "ef24390a",
   "metadata": {},
   "source": [
    "12- Drop the director and writer columns from the dataframe."
   ]
  },
  {
   "cell_type": "code",
   "execution_count": null,
   "id": "80eea597",
   "metadata": {},
   "outputs": [],
   "source": [
    "new_df = df.drop([\"director\",\"writer\"], axis = 1)"
   ]
  },
  {
   "cell_type": "markdown",
   "id": "0362592c",
   "metadata": {},
   "source": [
    "13- Drop Out Low-Rated and Low-Voted Movies"
   ]
  },
  {
   "cell_type": "code",
   "execution_count": null,
   "id": "457c9784",
   "metadata": {},
   "outputs": [],
   "source": [
    "df.drop(df.loc[(df[\"score\"] < 5) & (df[\"votes\"]<1000)].index, inplace = True)"
   ]
  },
  {
   "cell_type": "markdown",
   "id": "005e4e83",
   "metadata": {},
   "source": [
    "14- Top High-Rated Movies"
   ]
  },
  {
   "cell_type": "code",
   "execution_count": null,
   "id": "45ddf417",
   "metadata": {},
   "outputs": [],
   "source": [
    "top_rated_movies = df.sort_values(by = \"score\", ascending = False).head(5)"
   ]
  },
  {
   "cell_type": "markdown",
   "id": "ee5ae596",
   "metadata": {},
   "source": [
    "15- Removing Specific Rows"
   ]
  },
  {
   "cell_type": "code",
   "execution_count": null,
   "id": "7e528515",
   "metadata": {},
   "outputs": [],
   "source": [
    "df.drop([2,10],inplace = True)"
   ]
  },
  {
   "cell_type": "markdown",
   "id": "becf4552",
   "metadata": {},
   "source": [
    "16- Sci-Fi Blockbusters"
   ]
  },
  {
   "cell_type": "code",
   "execution_count": null,
   "id": "65c06cea",
   "metadata": {},
   "outputs": [],
   "source": [
    "sci_fi_blockbusters = df.loc[(df[\"gross\"]>150000000) & (df[\"genre\"] == \"Sci-Fi\")]"
   ]
  },
  {
   "cell_type": "markdown",
   "id": "fc211d24",
   "metadata": {},
   "source": [
    "17- Age of Movies"
   ]
  },
  {
   "cell_type": "code",
   "execution_count": null,
   "id": "54f704fa",
   "metadata": {},
   "outputs": [],
   "source": [
    "df[\"age\"] = 2023 - df[\"year\"]"
   ]
  },
  {
   "cell_type": "markdown",
   "id": "6a20655c",
   "metadata": {},
   "source": [
    "18- Movies Released in Summer"
   ]
  },
  {
   "cell_type": "code",
   "execution_count": null,
   "id": "8af714ba",
   "metadata": {},
   "outputs": [],
   "source": [
    "summer_movies = df.loc[df[\"released\"].str.contains(\"June|July|August\")]"
   ]
  }
 ],
 "metadata": {
  "kernelspec": {
   "display_name": "Python 3 (ipykernel)",
   "language": "python",
   "name": "python3"
  },
  "language_info": {
   "codemirror_mode": {
    "name": "ipython",
    "version": 3
   },
   "file_extension": ".py",
   "mimetype": "text/x-python",
   "name": "python",
   "nbconvert_exporter": "python",
   "pygments_lexer": "ipython3",
   "version": "3.11.4"
  }
 },
 "nbformat": 4,
 "nbformat_minor": 5
}
