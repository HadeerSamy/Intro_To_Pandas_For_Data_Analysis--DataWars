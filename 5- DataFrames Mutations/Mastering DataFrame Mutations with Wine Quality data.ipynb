{
 "cells": [
  {
   "cell_type": "markdown",
   "metadata": {},
   "source": [
    "# Wine Quality data"
   ]
  },
  {
   "cell_type": "markdown",
   "metadata": {},
   "source": [
    "1- What is maximum amount of citric acid in the wine dataset?"
   ]
  },
  {
   "cell_type": "code",
   "execution_count": null,
   "metadata": {},
   "outputs": [],
   "source": [
    "#To get the Max \n",
    "maxCitric = df[\"citric acid\"].max()\n",
    "maxCitric"
   ]
  },
  {
   "cell_type": "markdown",
   "metadata": {},
   "source": [
    "2- How many missing values are in the dataset?"
   ]
  },
  {
   "cell_type": "code",
   "execution_count": null,
   "metadata": {},
   "outputs": [],
   "source": [
    "#calc the sum of the null\n",
    "totMiss = df.isnull().sum()\n",
    "totMiss"
   ]
  },
  {
   "cell_type": "markdown",
   "metadata": {},
   "source": [
    "3- What is median wine quality?"
   ]
  },
  {
   "cell_type": "code",
   "execution_count": null,
   "metadata": {},
   "outputs": [],
   "source": [
    "#get the median of the quality\n",
    "medQuality = df[\"quality\"].median()\n",
    "medQuality"
   ]
  },
  {
   "cell_type": "markdown",
   "metadata": {},
   "source": [
    "4- Rename dataframe columns to appropriate format"
   ]
  },
  {
   "cell_type": "code",
   "execution_count": null,
   "metadata": {},
   "outputs": [],
   "source": [
    "df.rename(columns =  {\"fixed acidity\": \"fixed_acidity\",\n",
    "                     \"volatile acidity\": \"volatile_acidity\",\n",
    "                     \"citric acid\": \"citric_acid\",\n",
    "                     \"residual sugar\": \"residual_sugar\",\n",
    "                     \"fixed acidity\": \"fixed_acidity\",\n",
    "                     \"free sulfur dioxide\": \"free_sulfur_dioxide\",\n",
    "                     \"total sulfur dioxide\": \"total_sulfur_dioxide\"}, inplace = True)"
   ]
  },
  {
   "cell_type": "markdown",
   "metadata": {},
   "source": [
    "5- Drop the first and last row"
   ]
  },
  {
   "cell_type": "code",
   "execution_count": null,
   "metadata": {},
   "outputs": [],
   "source": [
    "#to drop it\n",
    "df_first_last = df.drop([0,1598])"
   ]
  },
  {
   "cell_type": "markdown",
   "metadata": {},
   "source": [
    "6- Remove maximum total sulfur dioxide from dataset"
   ]
  },
  {
   "cell_type": "code",
   "execution_count": null,
   "metadata": {},
   "outputs": [],
   "source": [
    "df_drop = df.drop(df.loc[df[\"total_sulfur_dioxide\"] == df[\"total_sulfur_dioxide\"].max()].index)"
   ]
  },
  {
   "cell_type": "markdown",
   "metadata": {},
   "source": [
    "7- Convert the quality column to the float"
   ]
  },
  {
   "cell_type": "code",
   "execution_count": null,
   "metadata": {},
   "outputs": [],
   "source": [
    "#convert to float\n",
    "df[\"quality_float\"] = df[\"quality\"].astype(float)"
   ]
  },
  {
   "cell_type": "markdown",
   "metadata": {},
   "source": [
    "8- Remove density, residual sugar and chlorides columns from the dataset"
   ]
  },
  {
   "cell_type": "code",
   "execution_count": null,
   "metadata": {},
   "outputs": [],
   "source": [
    "#drop the columns\n",
    "df_drop_three = df.drop([\"density\",\"residual_sugar\",\"chlorides\"],axis =1)"
   ]
  },
  {
   "cell_type": "markdown",
   "metadata": {},
   "source": [
    "9- Create a new column that calculates the alcohol content in terms of percentage (%)"
   ]
  },
  {
   "cell_type": "code",
   "execution_count": null,
   "metadata": {},
   "outputs": [],
   "source": [
    "#To get the max\n",
    "df['alcohol_perc'] = df[\"alcohol\"] / df[\"alcohol\"].max() * 100"
   ]
  },
  {
   "cell_type": "markdown",
   "metadata": {},
   "source": [
    "10- Evaluate the amount of sulphates and citric acid in the red wine"
   ]
  },
  {
   "cell_type": "code",
   "execution_count": null,
   "metadata": {},
   "outputs": [],
   "source": [
    "#summing array\n",
    "df['sulphate_citric_acid']= df[\"sulphates\"] + df[\"citric_acid\"]"
   ]
  },
  {
   "cell_type": "markdown",
   "metadata": {},
   "source": [
    "11- Create a new column that identifies if the alcohol content is below the mean of the alcohol content in the dataset."
   ]
  },
  {
   "cell_type": "code",
   "execution_count": null,
   "metadata": {},
   "outputs": [],
   "source": [
    "#to get the mean\n",
    "df['deviation_alcohol'] = df[\"alcohol\"] < df[\"alcohol\"].mean()"
   ]
  },
  {
   "cell_type": "markdown",
   "metadata": {},
   "source": [
    "12- Convert the wine quality scores into categorical labels: low, medium, high"
   ]
  },
  {
   "cell_type": "code",
   "execution_count": null,
   "metadata": {},
   "outputs": [],
   "source": [
    "#Criteria\n",
    "df['quality_label'] = ['low' if x <= 5 else 'medium' if x <= 7 else 'high' for x in df['quality']]\n"
   ]
  },
  {
   "cell_type": "markdown",
   "metadata": {},
   "source": [
    "13- Create a new column that calculates the ratio of free sulfur dioxide to total sulfur dioxide."
   ]
  },
  {
   "cell_type": "code",
   "execution_count": null,
   "metadata": {},
   "outputs": [],
   "source": [
    "#calculating the ratio\n",
    "df['free_total_ratio'] = df[\"free_sulfur_dioxide\"] / df[\"total_sulfur_dioxide\"] "
   ]
  }
 ],
 "metadata": {
  "language_info": {
   "name": "python"
  },
  "orig_nbformat": 4
 },
 "nbformat": 4,
 "nbformat_minor": 2
}
