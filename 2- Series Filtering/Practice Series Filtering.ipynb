{
 "cells": [
  {
   "cell_type": "markdown",
   "metadata": {},
   "source": [
    "# Series Filtering"
   ]
  },
  {
   "cell_type": "markdown",
   "metadata": {},
   "source": [
    "1- How many players have a batting average greater than 30 in the batting_average series?"
   ]
  },
  {
   "cell_type": "code",
   "execution_count": null,
   "metadata": {
    "vscode": {
     "languageId": "plaintext"
    }
   },
   "outputs": [],
   "source": [
    "numPlayer = len(batting_average.loc[batting_average>30])\n",
    "numPlayer"
   ]
  },
  {
   "cell_type": "markdown",
   "metadata": {},
   "source": [
    "2- What is the maximum number of runs scored by a player in the runs series?"
   ]
  },
  {
   "cell_type": "code",
   "execution_count": null,
   "metadata": {
    "vscode": {
     "languageId": "plaintext"
    }
   },
   "outputs": [],
   "source": [
    "maxNum = runs.max()\n",
    "maxNum"
   ]
  },
  {
   "cell_type": "markdown",
   "metadata": {},
   "source": [
    "3- Name the player with maximum runs"
   ]
  },
  {
   "cell_type": "code",
   "execution_count": null,
   "metadata": {
    "vscode": {
     "languageId": "plaintext"
    }
   },
   "outputs": [],
   "source": [
    "playerMaxRun = runs.loc[runs == maxNum]\n",
    "playerMaxRun"
   ]
  },
  {
   "cell_type": "markdown",
   "metadata": {},
   "source": [
    "4- Name the player who played least number of balls"
   ]
  },
  {
   "cell_type": "code",
   "execution_count": null,
   "metadata": {
    "vscode": {
     "languageId": "plaintext"
    }
   },
   "outputs": [],
   "source": [
    "playerMinBall = balls.loc[balls == balls.min()]\n",
    "playerMinBall"
   ]
  },
  {
   "cell_type": "markdown",
   "metadata": {},
   "source": [
    "5- How many players have played more than 500 balls in the balls series?"
   ]
  },
  {
   "cell_type": "code",
   "execution_count": null,
   "metadata": {
    "vscode": {
     "languageId": "plaintext"
    }
   },
   "outputs": [],
   "source": [
    "num500Balls = len(balls.loc[balls>500])\n",
    "num500Balls"
   ]
  },
  {
   "cell_type": "markdown",
   "metadata": {},
   "source": [
    "6- What is the mean value of the batting_average series?"
   ]
  },
  {
   "cell_type": "code",
   "execution_count": null,
   "metadata": {
    "vscode": {
     "languageId": "plaintext"
    }
   },
   "outputs": [],
   "source": [
    "meanBatting = batting_average.mean()\n",
    "meanBatting"
   ]
  },
  {
   "cell_type": "markdown",
   "metadata": {},
   "source": [
    "7- How many players have a strike rate less than 70 in the strike_rate series?"
   ]
  },
  {
   "cell_type": "code",
   "execution_count": null,
   "metadata": {
    "vscode": {
     "languageId": "plaintext"
    }
   },
   "outputs": [],
   "source": [
    "num70Player = len(strike_rate.loc[strike_rate < 70])\n",
    "num70Player"
   ]
  },
  {
   "cell_type": "markdown",
   "metadata": {},
   "source": [
    "8- What is the minimum number of innings played by a player in the innings series?"
   ]
  },
  {
   "cell_type": "code",
   "execution_count": null,
   "metadata": {
    "vscode": {
     "languageId": "plaintext"
    }
   },
   "outputs": [],
   "source": [
    "minInning = innings.min()\n",
    "minInning"
   ]
  },
  {
   "cell_type": "markdown",
   "metadata": {},
   "source": [
    "9- How many players have a batting average greater than 50 in the batting_average series?"
   ]
  },
  {
   "cell_type": "code",
   "execution_count": null,
   "metadata": {
    "vscode": {
     "languageId": "plaintext"
    }
   },
   "outputs": [],
   "source": [
    "num50Batting = len(batting_average.loc[batting_average>50])\n",
    "num50Batting"
   ]
  },
  {
   "cell_type": "markdown",
   "metadata": {},
   "source": [
    "10- How many players have a batting average between 20 and 30 (inclusive) in the batting_average series?"
   ]
  },
  {
   "cell_type": "code",
   "execution_count": null,
   "metadata": {
    "vscode": {
     "languageId": "plaintext"
    }
   },
   "outputs": [],
   "source": [
    "numBetBatt = len(batting_average.loc[(batting_average<=30) & (batting_average>=20)])\n",
    "numBetBatt"
   ]
  },
  {
   "cell_type": "markdown",
   "metadata": {},
   "source": [
    "11- Calculating the Average Balls Faced by a Player."
   ]
  },
  {
   "cell_type": "code",
   "execution_count": null,
   "metadata": {
    "vscode": {
     "languageId": "plaintext"
    }
   },
   "outputs": [],
   "source": [
    "avgFaced = balls.mean()\n",
    "avgFaced"
   ]
  },
  {
   "cell_type": "markdown",
   "metadata": {},
   "source": [
    "12- How many players have a strike rate greater than 120 in the strike_rate series?"
   ]
  },
  {
   "cell_type": "code",
   "execution_count": null,
   "metadata": {
    "vscode": {
     "languageId": "plaintext"
    }
   },
   "outputs": [],
   "source": [
    "numPlayer120 = len(strike_rate.loc[strike_rate>120])\n",
    "numPlayer120"
   ]
  },
  {
   "cell_type": "markdown",
   "metadata": {},
   "source": [
    "13- Provide the names of the top three players from the strike_rate series."
   ]
  },
  {
   "cell_type": "code",
   "execution_count": null,
   "metadata": {
    "vscode": {
     "languageId": "plaintext"
    }
   },
   "outputs": [],
   "source": [
    "top3 = strike_rate.sort_values(ascending = False).head(3)\n",
    "top3"
   ]
  },
  {
   "cell_type": "markdown",
   "metadata": {},
   "source": [
    "14- Sum of Maximums from number_of_fours and number_of_sixes Series."
   ]
  },
  {
   "cell_type": "code",
   "execution_count": null,
   "metadata": {
    "vscode": {
     "languageId": "plaintext"
    }
   },
   "outputs": [],
   "source": [
    "max4 = number_of_fours.max()\n",
    "max6 = number_of_sixes.max()\n",
    "sumy = max4 + max6\n",
    "sumy"
   ]
  },
  {
   "cell_type": "markdown",
   "metadata": {},
   "source": [
    "15- How many players have a batting average below 10 in the batting_average series?"
   ]
  },
  {
   "cell_type": "code",
   "execution_count": null,
   "metadata": {
    "vscode": {
     "languageId": "plaintext"
    }
   },
   "outputs": [],
   "source": [
    "num10Bat = len(batting_average[batting_average < 10])\n",
    "num10Bat"
   ]
  },
  {
   "cell_type": "markdown",
   "metadata": {},
   "source": [
    "16- Name the player who hit maximum sixes."
   ]
  },
  {
   "cell_type": "code",
   "execution_count": null,
   "metadata": {
    "vscode": {
     "languageId": "plaintext"
    }
   },
   "outputs": [],
   "source": [
    "high6 = number_of_sixes.sort_values(ascending = False).head(1)\n",
    "high6"
   ]
  },
  {
   "cell_type": "markdown",
   "metadata": {},
   "source": [
    "17- How many players have a strike rate between 80 and 90 (inclusive) in the strike_rate series?"
   ]
  },
  {
   "cell_type": "code",
   "execution_count": null,
   "metadata": {
    "vscode": {
     "languageId": "plaintext"
    }
   },
   "outputs": [],
   "source": [
    "playNum = len(strike_rate[(strike_rate >= 80) & (strike_rate <= 90)])\n",
    "playNum"
   ]
  },
  {
   "cell_type": "markdown",
   "metadata": {},
   "source": [
    "18- What is the total number of runs scored by all players in the runs series?"
   ]
  },
  {
   "cell_type": "code",
   "execution_count": null,
   "metadata": {
    "vscode": {
     "languageId": "plaintext"
    }
   },
   "outputs": [],
   "source": [
    "totRun = runs.sum()\n",
    "totRun"
   ]
  },
  {
   "cell_type": "markdown",
   "metadata": {},
   "source": [
    "19- What is the range (difference between the maximum and minimum values) of the number_of_fifties series?"
   ]
  },
  {
   "cell_type": "code",
   "execution_count": null,
   "metadata": {
    "vscode": {
     "languageId": "plaintext"
    }
   },
   "outputs": [],
   "source": [
    "num50Range = number_of_fifties.max() - number_of_fifties.min()\n",
    "num50Range"
   ]
  },
  {
   "cell_type": "markdown",
   "metadata": {},
   "source": [
    "20- How many players have a strike rate below 60 in the strike_rate series?"
   ]
  },
  {
   "cell_type": "code",
   "execution_count": null,
   "metadata": {
    "vscode": {
     "languageId": "plaintext"
    }
   },
   "outputs": [],
   "source": [
    "playLess60 = len(strike_rate[strike_rate < 60])\n",
    "playLess60"
   ]
  },
  {
   "cell_type": "markdown",
   "metadata": {},
   "source": [
    "21- Calculating the Mean Number of Boundaries (Fours + Sixes) Hit by a Player."
   ]
  },
  {
   "cell_type": "code",
   "execution_count": null,
   "metadata": {
    "vscode": {
     "languageId": "plaintext"
    }
   },
   "outputs": [],
   "source": [
    "meanTot = (number_of_fours+ number_of_sixes).mean()\n",
    "meanTot"
   ]
  },
  {
   "cell_type": "markdown",
   "metadata": {},
   "source": [
    "22- Players with highest score in highest_score series."
   ]
  },
  {
   "cell_type": "code",
   "execution_count": null,
   "metadata": {
    "vscode": {
     "languageId": "plaintext"
    }
   },
   "outputs": [],
   "source": [
    "top_five_scores = highest_score.sort_values(ascending = False).head(5)"
   ]
  }
 ],
 "metadata": {
  "language_info": {
   "name": "python"
  },
  "orig_nbformat": 4
 },
 "nbformat": 4,
 "nbformat_minor": 2
}
