{
 "cells": [
  {
   "cell_type": "markdown",
   "metadata": {},
   "source": [
    "# S&P500 and Census Data"
   ]
  },
  {
   "cell_type": "markdown",
   "metadata": {},
   "source": [
    "1- Rename the series accordingly."
   ]
  },
  {
   "cell_type": "code",
   "execution_count": null,
   "metadata": {
    "vscode": {
     "languageId": "plaintext"
    }
   },
   "outputs": [],
   "source": [
    "age_marriage.name = \"Age of First Marriage\"\n",
    "sp500.name = \"S&P500 Returns 90s\""
   ]
  },
  {
   "cell_type": "markdown",
   "metadata": {},
   "source": [
    "2- What's the maximum Age of marriage?"
   ]
  },
  {
   "cell_type": "code",
   "execution_count": null,
   "metadata": {
    "vscode": {
     "languageId": "plaintext"
    }
   },
   "outputs": [],
   "source": [
    "maxAge = age_marriage.max()\n",
    "maxAge"
   ]
  },
  {
   "cell_type": "markdown",
   "metadata": {},
   "source": [
    "3- What's the median Age of Marriage?"
   ]
  },
  {
   "cell_type": "code",
   "execution_count": null,
   "metadata": {
    "vscode": {
     "languageId": "plaintext"
    }
   },
   "outputs": [],
   "source": [
    "medAge = age_marriage.median()\n",
    "medAge"
   ]
  },
  {
   "cell_type": "markdown",
   "metadata": {},
   "source": [
    "4- What's the minimum return from S&P500?"
   ]
  },
  {
   "cell_type": "code",
   "execution_count": null,
   "metadata": {
    "vscode": {
     "languageId": "plaintext"
    }
   },
   "outputs": [],
   "source": [
    "minS = sp500.min()\n",
    "minS"
   ]
  },
  {
   "cell_type": "markdown",
   "metadata": {},
   "source": [
    "5- How many Women marry at age 21?"
   ]
  },
  {
   "cell_type": "code",
   "execution_count": null,
   "metadata": {
    "vscode": {
     "languageId": "plaintext"
    }
   },
   "outputs": [],
   "source": [
    "women_marry_21 = len(age_marriage[age_marriage == 21])\n",
    "women_marry_21"
   ]
  },
  {
   "cell_type": "markdown",
   "metadata": {},
   "source": [
    "6- How many Women marry at 39y/o or older?"
   ]
  },
  {
   "cell_type": "code",
   "execution_count": null,
   "metadata": {
    "vscode": {
     "languageId": "plaintext"
    }
   },
   "outputs": [],
   "source": [
    "women_marry_39 = len(age_marriage[age_marriage >= 39])\n",
    "women_marry_39"
   ]
  },
  {
   "cell_type": "markdown",
   "metadata": {},
   "source": [
    "7- How many positive S&P500 returns are there?"
   ]
  },
  {
   "cell_type": "code",
   "execution_count": null,
   "metadata": {
    "vscode": {
     "languageId": "plaintext"
    }
   },
   "outputs": [],
   "source": [
    "pos500 = len(sp500.loc[sp500>0])\n",
    "pos500"
   ]
  },
  {
   "cell_type": "markdown",
   "metadata": {},
   "source": [
    "8- How many returns are less or equals than -2?"
   ]
  },
  {
   "cell_type": "code",
   "execution_count": null,
   "metadata": {
    "vscode": {
     "languageId": "plaintext"
    }
   },
   "outputs": [],
   "source": [
    "neg500 = len(sp500.loc[sp500 <= -2])\n",
    "neg500"
   ]
  },
  {
   "cell_type": "markdown",
   "metadata": {},
   "source": [
    "9- Select all women below 20 or above 39."
   ]
  },
  {
   "cell_type": "code",
   "execution_count": null,
   "metadata": {
    "vscode": {
     "languageId": "plaintext"
    }
   },
   "outputs": [],
   "source": [
    "age_20_39 = age_marriage.loc[(age_marriage < 20) | (age_marriage > 39)]"
   ]
  },
  {
   "cell_type": "markdown",
   "metadata": {},
   "source": [
    "10- Select all women whose ages are even, and are older than 30 y/o."
   ]
  },
  {
   "cell_type": "code",
   "execution_count": null,
   "metadata": {
    "vscode": {
     "languageId": "plaintext"
    }
   },
   "outputs": [],
   "source": [
    "age_30_even = age_marriage.loc[(age_marriage > 30) & (age_marriage%2 == 0)]"
   ]
  },
  {
   "cell_type": "markdown",
   "metadata": {},
   "source": [
    "11- Select the S&P500 returns between 1.5 and 3."
   ]
  },
  {
   "cell_type": "code",
   "execution_count": null,
   "metadata": {
    "vscode": {
     "languageId": "plaintext"
    }
   },
   "outputs": [],
   "source": [
    "sp_15_to_3 = sp500.loc[(sp500 > 1.5) & (sp500 <3)]"
   ]
  }
 ],
 "metadata": {
  "language_info": {
   "name": "python"
  },
  "orig_nbformat": 4
 },
 "nbformat": 4,
 "nbformat_minor": 2
}
